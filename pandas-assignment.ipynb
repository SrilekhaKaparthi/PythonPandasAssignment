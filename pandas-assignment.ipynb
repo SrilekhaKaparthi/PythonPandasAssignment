{
 "cells": [
  {
   "cell_type": "markdown",
   "metadata": {},
   "source": [
    "1.define a series with even values from 100 to 200 in descending order"
   ]
  },
  {
   "cell_type": "code",
   "execution_count": 13,
   "metadata": {},
   "outputs": [],
   "source": [
    "import pandas as pd\n",
    "import numpy as np"
   ]
  },
  {
   "cell_type": "code",
   "execution_count": 2,
   "metadata": {},
   "outputs": [
    {
     "data": {
      "text/plain": [
       "[198,\n",
       " 196,\n",
       " 194,\n",
       " 192,\n",
       " 190,\n",
       " 188,\n",
       " 186,\n",
       " 184,\n",
       " 182,\n",
       " 180,\n",
       " 178,\n",
       " 176,\n",
       " 174,\n",
       " 172,\n",
       " 170,\n",
       " 168,\n",
       " 166,\n",
       " 164,\n",
       " 162,\n",
       " 160,\n",
       " 158,\n",
       " 156,\n",
       " 154,\n",
       " 152,\n",
       " 150,\n",
       " 148,\n",
       " 146,\n",
       " 144,\n",
       " 142,\n",
       " 140,\n",
       " 138,\n",
       " 136,\n",
       " 134,\n",
       " 132,\n",
       " 130,\n",
       " 128,\n",
       " 126,\n",
       " 124,\n",
       " 122,\n",
       " 120,\n",
       " 118,\n",
       " 116,\n",
       " 114,\n",
       " 112,\n",
       " 110,\n",
       " 108,\n",
       " 106,\n",
       " 104,\n",
       " 102,\n",
       " 100]"
      ]
     },
     "execution_count": 2,
     "metadata": {},
     "output_type": "execute_result"
    }
   ],
   "source": [
    "l = [ i for i in range(100,200) if i % 2 == 0]\n",
    "l.sort(reverse=True)\n",
    "l"
   ]
  },
  {
   "cell_type": "code",
   "execution_count": null,
   "metadata": {},
   "outputs": [],
   "source": [
    "#2.assign index to this series starting from 100"
   ]
  },
  {
   "cell_type": "code",
   "execution_count": 4,
   "metadata": {},
   "outputs": [
    {
     "data": {
      "text/plain": [
       "0     100\n",
       "1     102\n",
       "2     104\n",
       "3     106\n",
       "4     108\n",
       "5     110\n",
       "6     112\n",
       "7     114\n",
       "8     116\n",
       "9     118\n",
       "10    120\n",
       "11    122\n",
       "12    124\n",
       "13    126\n",
       "14    128\n",
       "15    130\n",
       "16    132\n",
       "17    134\n",
       "18    136\n",
       "19    138\n",
       "20    140\n",
       "21    142\n",
       "22    144\n",
       "23    146\n",
       "24    148\n",
       "25    150\n",
       "26    152\n",
       "27    154\n",
       "28    156\n",
       "29    158\n",
       "30    160\n",
       "31    162\n",
       "32    164\n",
       "33    166\n",
       "34    168\n",
       "35    170\n",
       "36    172\n",
       "37    174\n",
       "38    176\n",
       "39    178\n",
       "40    180\n",
       "41    182\n",
       "42    184\n",
       "43    186\n",
       "44    188\n",
       "45    190\n",
       "46    192\n",
       "47    194\n",
       "48    196\n",
       "49    198\n",
       "dtype: int64"
      ]
     },
     "execution_count": 4,
     "metadata": {},
     "output_type": "execute_result"
    }
   ],
   "source": [
    "import pandas as pd\n",
    "import numpy as np\n",
    "l.sort()\n",
    "df=pd.Series(l)\n",
    "df"
   ]
  },
  {
   "cell_type": "markdown",
   "metadata": {},
   "source": [
    "3.create a dataframe of random values of shape 8*6 . Assign index as numerical values and column names from a to f and using loc and iloc print values of rows 3,4 and columns b and e "
   ]
  },
  {
   "cell_type": "code",
   "execution_count": 5,
   "metadata": {},
   "outputs": [
    {
     "data": {
      "text/html": [
       "<div>\n",
       "<style scoped>\n",
       "    .dataframe tbody tr th:only-of-type {\n",
       "        vertical-align: middle;\n",
       "    }\n",
       "\n",
       "    .dataframe tbody tr th {\n",
       "        vertical-align: top;\n",
       "    }\n",
       "\n",
       "    .dataframe thead th {\n",
       "        text-align: right;\n",
       "    }\n",
       "</style>\n",
       "<table border=\"1\" class=\"dataframe\">\n",
       "  <thead>\n",
       "    <tr style=\"text-align: right;\">\n",
       "      <th></th>\n",
       "      <th>a</th>\n",
       "      <th>b</th>\n",
       "      <th>c</th>\n",
       "      <th>d</th>\n",
       "      <th>e</th>\n",
       "      <th>f</th>\n",
       "    </tr>\n",
       "  </thead>\n",
       "  <tbody>\n",
       "    <tr>\n",
       "      <th>1</th>\n",
       "      <td>0.002042</td>\n",
       "      <td>0.026746</td>\n",
       "      <td>-0.826420</td>\n",
       "      <td>1.105010</td>\n",
       "      <td>-0.047679</td>\n",
       "      <td>0.276049</td>\n",
       "    </tr>\n",
       "    <tr>\n",
       "      <th>2</th>\n",
       "      <td>1.754216</td>\n",
       "      <td>0.226311</td>\n",
       "      <td>-0.543708</td>\n",
       "      <td>0.517198</td>\n",
       "      <td>-0.668524</td>\n",
       "      <td>0.641412</td>\n",
       "    </tr>\n",
       "    <tr>\n",
       "      <th>3</th>\n",
       "      <td>-0.663881</td>\n",
       "      <td>0.870141</td>\n",
       "      <td>1.514704</td>\n",
       "      <td>0.469016</td>\n",
       "      <td>1.204160</td>\n",
       "      <td>1.144160</td>\n",
       "    </tr>\n",
       "    <tr>\n",
       "      <th>4</th>\n",
       "      <td>0.204636</td>\n",
       "      <td>1.409150</td>\n",
       "      <td>0.774217</td>\n",
       "      <td>-0.711576</td>\n",
       "      <td>1.283236</td>\n",
       "      <td>0.809930</td>\n",
       "    </tr>\n",
       "    <tr>\n",
       "      <th>5</th>\n",
       "      <td>-0.702635</td>\n",
       "      <td>-0.975189</td>\n",
       "      <td>0.052050</td>\n",
       "      <td>-0.916213</td>\n",
       "      <td>-0.170877</td>\n",
       "      <td>-0.414809</td>\n",
       "    </tr>\n",
       "    <tr>\n",
       "      <th>6</th>\n",
       "      <td>-0.755904</td>\n",
       "      <td>1.436485</td>\n",
       "      <td>0.080903</td>\n",
       "      <td>1.689008</td>\n",
       "      <td>0.002073</td>\n",
       "      <td>0.254249</td>\n",
       "    </tr>\n",
       "    <tr>\n",
       "      <th>7</th>\n",
       "      <td>0.200977</td>\n",
       "      <td>1.233603</td>\n",
       "      <td>-0.960876</td>\n",
       "      <td>0.451944</td>\n",
       "      <td>-1.047191</td>\n",
       "      <td>-0.319275</td>\n",
       "    </tr>\n",
       "    <tr>\n",
       "      <th>8</th>\n",
       "      <td>-0.670477</td>\n",
       "      <td>-0.938946</td>\n",
       "      <td>1.558501</td>\n",
       "      <td>0.456377</td>\n",
       "      <td>-0.005744</td>\n",
       "      <td>-1.105803</td>\n",
       "    </tr>\n",
       "  </tbody>\n",
       "</table>\n",
       "</div>"
      ],
      "text/plain": [
       "          a         b         c         d         e         f\n",
       "1  0.002042  0.026746 -0.826420  1.105010 -0.047679  0.276049\n",
       "2  1.754216  0.226311 -0.543708  0.517198 -0.668524  0.641412\n",
       "3 -0.663881  0.870141  1.514704  0.469016  1.204160  1.144160\n",
       "4  0.204636  1.409150  0.774217 -0.711576  1.283236  0.809930\n",
       "5 -0.702635 -0.975189  0.052050 -0.916213 -0.170877 -0.414809\n",
       "6 -0.755904  1.436485  0.080903  1.689008  0.002073  0.254249\n",
       "7  0.200977  1.233603 -0.960876  0.451944 -1.047191 -0.319275\n",
       "8 -0.670477 -0.938946  1.558501  0.456377 -0.005744 -1.105803"
      ]
     },
     "execution_count": 5,
     "metadata": {},
     "output_type": "execute_result"
    }
   ],
   "source": [
    "import pandas as pd\n",
    "import numpy as np\n",
    "from numpy.random import randn\n",
    "df=pd.DataFrame(randn(8,6),index='1 2 3 4 5 6 7 8'.split(),columns='a b c d e f'.split())\n",
    "df\n"
   ]
  },
  {
   "cell_type": "code",
   "execution_count": 6,
   "metadata": {},
   "outputs": [
    {
     "data": {
      "text/html": [
       "<div>\n",
       "<style scoped>\n",
       "    .dataframe tbody tr th:only-of-type {\n",
       "        vertical-align: middle;\n",
       "    }\n",
       "\n",
       "    .dataframe tbody tr th {\n",
       "        vertical-align: top;\n",
       "    }\n",
       "\n",
       "    .dataframe thead th {\n",
       "        text-align: right;\n",
       "    }\n",
       "</style>\n",
       "<table border=\"1\" class=\"dataframe\">\n",
       "  <thead>\n",
       "    <tr style=\"text-align: right;\">\n",
       "      <th></th>\n",
       "      <th>a</th>\n",
       "      <th>b</th>\n",
       "      <th>c</th>\n",
       "      <th>d</th>\n",
       "      <th>e</th>\n",
       "      <th>f</th>\n",
       "    </tr>\n",
       "  </thead>\n",
       "  <tbody>\n",
       "    <tr>\n",
       "      <th>3</th>\n",
       "      <td>-0.663881</td>\n",
       "      <td>0.870141</td>\n",
       "      <td>1.514704</td>\n",
       "      <td>0.469016</td>\n",
       "      <td>1.204160</td>\n",
       "      <td>1.14416</td>\n",
       "    </tr>\n",
       "    <tr>\n",
       "      <th>4</th>\n",
       "      <td>0.204636</td>\n",
       "      <td>1.409150</td>\n",
       "      <td>0.774217</td>\n",
       "      <td>-0.711576</td>\n",
       "      <td>1.283236</td>\n",
       "      <td>0.80993</td>\n",
       "    </tr>\n",
       "  </tbody>\n",
       "</table>\n",
       "</div>"
      ],
      "text/plain": [
       "          a         b         c         d         e        f\n",
       "3 -0.663881  0.870141  1.514704  0.469016  1.204160  1.14416\n",
       "4  0.204636  1.409150  0.774217 -0.711576  1.283236  0.80993"
      ]
     },
     "execution_count": 6,
     "metadata": {},
     "output_type": "execute_result"
    }
   ],
   "source": [
    "df.iloc[[2,3]]"
   ]
  },
  {
   "cell_type": "code",
   "execution_count": 7,
   "metadata": {},
   "outputs": [
    {
     "data": {
      "text/html": [
       "<div>\n",
       "<style scoped>\n",
       "    .dataframe tbody tr th:only-of-type {\n",
       "        vertical-align: middle;\n",
       "    }\n",
       "\n",
       "    .dataframe tbody tr th {\n",
       "        vertical-align: top;\n",
       "    }\n",
       "\n",
       "    .dataframe thead th {\n",
       "        text-align: right;\n",
       "    }\n",
       "</style>\n",
       "<table border=\"1\" class=\"dataframe\">\n",
       "  <thead>\n",
       "    <tr style=\"text-align: right;\">\n",
       "      <th></th>\n",
       "      <th>b</th>\n",
       "      <th>e</th>\n",
       "    </tr>\n",
       "  </thead>\n",
       "  <tbody>\n",
       "    <tr>\n",
       "      <th>1</th>\n",
       "      <td>0.026746</td>\n",
       "      <td>-0.047679</td>\n",
       "    </tr>\n",
       "    <tr>\n",
       "      <th>2</th>\n",
       "      <td>0.226311</td>\n",
       "      <td>-0.668524</td>\n",
       "    </tr>\n",
       "    <tr>\n",
       "      <th>3</th>\n",
       "      <td>0.870141</td>\n",
       "      <td>1.204160</td>\n",
       "    </tr>\n",
       "    <tr>\n",
       "      <th>4</th>\n",
       "      <td>1.409150</td>\n",
       "      <td>1.283236</td>\n",
       "    </tr>\n",
       "    <tr>\n",
       "      <th>5</th>\n",
       "      <td>-0.975189</td>\n",
       "      <td>-0.170877</td>\n",
       "    </tr>\n",
       "    <tr>\n",
       "      <th>6</th>\n",
       "      <td>1.436485</td>\n",
       "      <td>0.002073</td>\n",
       "    </tr>\n",
       "    <tr>\n",
       "      <th>7</th>\n",
       "      <td>1.233603</td>\n",
       "      <td>-1.047191</td>\n",
       "    </tr>\n",
       "    <tr>\n",
       "      <th>8</th>\n",
       "      <td>-0.938946</td>\n",
       "      <td>-0.005744</td>\n",
       "    </tr>\n",
       "  </tbody>\n",
       "</table>\n",
       "</div>"
      ],
      "text/plain": [
       "          b         e\n",
       "1  0.026746 -0.047679\n",
       "2  0.226311 -0.668524\n",
       "3  0.870141  1.204160\n",
       "4  1.409150  1.283236\n",
       "5 -0.975189 -0.170877\n",
       "6  1.436485  0.002073\n",
       "7  1.233603 -1.047191\n",
       "8 -0.938946 -0.005744"
      ]
     },
     "execution_count": 7,
     "metadata": {},
     "output_type": "execute_result"
    }
   ],
   "source": [
    "df.iloc[:,[1,4]]"
   ]
  },
  {
   "cell_type": "markdown",
   "metadata": {},
   "source": [
    "create a multi-index dataframe and 1st index is [\"cse\",\"IT\"] and second index is 1 to 6 numbers. use 2 columns A,B and assign random values to it "
   ]
  },
  {
   "cell_type": "code",
   "execution_count": null,
   "metadata": {},
   "outputs": [],
   "source": [
    "arr = [np.array([\"CSE\",\"CSE\",\"CSE\",\"CSE\", \"CSE\", \"CSE\",\"IT\",\"IT\",\"IT\",\"IT\",\"IT\",\"IT\"]),\n",
    "                  np.array([1, 2, 3, 4, 5, 6, 1, 2 , 3, 4, 5, 6])]\n",
    "tuples = list(zip(*arr))\n",
    "tuples\n",
    "index = pd.MultiIndex.from_tuples(tuples, names=[\"A\", \"B\"] )\n",
    "index\n",
    "s = pd.Series(np.random.randn(12), index=index)\n",
    "s"
   ]
  },
  {
   "cell_type": "markdown",
   "metadata": {},
   "source": [
    "print the row value of number 4 from cse "
   ]
  },
  {
   "cell_type": "code",
   "execution_count": 53,
   "metadata": {},
   "outputs": [
    {
     "data": {
      "text/plain": [
       "0.824761658645627"
      ]
     },
     "execution_count": 53,
     "metadata": {},
     "output_type": "execute_result"
    }
   ],
   "source": [
    "s[\"CSE\"][4]"
   ]
  },
  {
   "cell_type": "markdown",
   "metadata": {},
   "source": [
    "print the row value of 3,5 from IT"
   ]
  },
  {
   "cell_type": "code",
   "execution_count": 56,
   "metadata": {},
   "outputs": [
    {
     "data": {
      "text/plain": [
       "B\n",
       "3   -0.213906\n",
       "4   -0.230296\n",
       "5   -0.274837\n",
       "dtype: float64"
      ]
     },
     "execution_count": 56,
     "metadata": {},
     "output_type": "execute_result"
    }
   ],
   "source": [
    "s[\"IT\"][2:5]"
   ]
  }
 ],
 "metadata": {
  "kernelspec": {
   "display_name": "Python 3",
   "language": "python",
   "name": "python3"
  },
  "language_info": {
   "codemirror_mode": {
    "name": "ipython",
    "version": 3
   },
   "file_extension": ".py",
   "mimetype": "text/x-python",
   "name": "python",
   "nbconvert_exporter": "python",
   "pygments_lexer": "ipython3",
   "version": "3.8.3"
  }
 },
 "nbformat": 4,
 "nbformat_minor": 2
}
